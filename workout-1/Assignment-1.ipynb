{
 "cells": [
  {
   "cell_type": "markdown",
   "metadata": {},
   "source": [
    "# Assignment - 1\n"
   ]
  },
  {
   "cell_type": "markdown",
   "metadata": {},
   "source": [
    "\n",
    "### Problem - 1 (Variables)\n",
    "\n",
    "#### Write a python program to print the following string in a specific format.\n",
    "\n",
    " Twinkle,twinkle, little star,\n",
    "   How I wonder what you are!\n",
    "    Up above the world so high,\n",
    "    Like a diamond in the sky.\n",
    " Twinkle,twinkle,little star.\n",
    "  How I wonder what you are."
   ]
  },
  {
   "cell_type": "markdown",
   "metadata": {},
   "source": [
    "##### Answer\n",
    "##### For making each new line \\n can be used, and white space inside the string to arrange the space in between\n",
    "##### The code is given below."
   ]
  },
  {
   "cell_type": "code",
   "execution_count": 13,
   "metadata": {},
   "outputs": [
    {
     "name": "stdout",
     "output_type": "stream",
     "text": [
      "Twinkle,twinkle, little star,\n",
      "  How I wonder what you are!\n",
      "   Up above the world so high,\n",
      "   Like a diamond in the sky.\n",
      "Twinkle,twinkle,little star.\n",
      "  How I wonder what you are.\n"
     ]
    }
   ],
   "source": [
    "print(\"Twinkle,twinkle, little star,\\n  How I wonder what you are!\\n   Up above the world so high,\\n   Like a diamond in the sky.\\nTwinkle,twinkle,little star.\\n  How I wonder what you are.\")"
   ]
  },
  {
   "cell_type": "markdown",
   "metadata": {},
   "source": [
    "### Problem - 2 (Numbers)\n",
    "#### Write a Python program which accepts the radius of a circle from the user and compute the area"
   ]
  },
  {
   "cell_type": "markdown",
   "metadata": {},
   "source": [
    "##### Answer\n",
    "##### 1.Accept the radius value and assign it to a variable\n",
    "##### 2.Convert the radius value to integer or float\n",
    "##### 3.Calculate the radius of the circle using π*(r*r) and store to area\n",
    "##### 4.Print the area \n",
    "\n",
    "##### Code is given below."
   ]
  },
  {
   "cell_type": "code",
   "execution_count": 7,
   "metadata": {},
   "outputs": [
    {
     "name": "stdout",
     "output_type": "stream",
     "text": [
      "The area of the circle :  78.5\n"
     ]
    }
   ],
   "source": [
    "radius = float(input(\"Enter the radius of the circle: \"))\n",
    "area = 3.14 * (radius * radius)\n",
    "print(\"The area of the circle : \",area)"
   ]
  },
  {
   "cell_type": "markdown",
   "metadata": {},
   "source": [
    "### Problem - 3 \n",
    "#### one extra-large pizza 18in costs as much as  two medium 12in pizzas, If i wanted to get the most pizza possible, Should i buy one 18in  pizza or the two 12in pizzas."
   ]
  },
  {
   "cell_type": "markdown",
   "metadata": {},
   "source": [
    "##### Answer\n",
    "##### 1.Calculate the area of the extra-large pizza, and the area of the medium pizza\n",
    "##### 2.For twice the price of extra-large there will be two medium pizza so two times \n",
    "##### 3.The area of the both pizzas can be compared and the greatest area can be bought\n",
    "##### 4.Cosidering there will two medium sized pizza"
   ]
  },
  {
   "cell_type": "code",
   "execution_count": 9,
   "metadata": {},
   "outputs": [
    {
     "name": "stdout",
     "output_type": "stream",
     "text": [
      "1017.36\n",
      "452.16\n",
      "Large pizza is will be profitable.\n"
     ]
    }
   ],
   "source": [
    "large_pizza = 3.14 * (18 * 18)\n",
    "medium_pizza = 3.14 * (12 * 12)\n",
    "#two medium_pizza for the same price\n",
    "print(large_pizza)\n",
    "print(medium_pizza)\n",
    "two_medium_pizza = medium_pizza * 2\n",
    "\n",
    "if(large_pizza > two_medium_pizza):\n",
    "    print(\"Large pizza is will be profitable.\")\n",
    "else: print(\"Medium pizza is profitable\")\n",
    "\n"
   ]
  }
 ],
 "metadata": {
  "kernelspec": {
   "display_name": "Python 3.10.5 64-bit",
   "language": "python",
   "name": "python3"
  },
  "language_info": {
   "name": "python",
   "version": "3.10.5"
  },
  "orig_nbformat": 4,
  "vscode": {
   "interpreter": {
    "hash": "ed3c39b5a1f404d352c0ade4d29f072fca305900a14fd59cfd635f58a0b0e035"
   }
  }
 },
 "nbformat": 4,
 "nbformat_minor": 2
}
