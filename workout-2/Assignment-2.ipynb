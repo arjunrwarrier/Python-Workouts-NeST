{
 "cells": [
  {
   "cell_type": "markdown",
   "metadata": {},
   "source": [
    "# Assignment-2 "
   ]
  },
  {
   "cell_type": "markdown",
   "metadata": {},
   "source": [
    "### Problem - 1\n",
    "#### Calculate the multiplication and sum of two numbers.\n",
    "#### Given two integer numbers return their product only if the product is equal to or lower than 1000, else return their sum."
   ]
  },
  {
   "cell_type": "markdown",
   "metadata": {},
   "source": [
    "\n",
    "\n",
    "\n",
    "##### Answer\n",
    "##### 1.Defining a function to take two arguments and calculating the product and sum.\n",
    "##### 2.Checking for the condition, if true returning product, if not true returning the sum."
   ]
  },
  {
   "cell_type": "code",
   "execution_count": 12,
   "metadata": {},
   "outputs": [
    {
     "name": "stdout",
     "output_type": "stream",
     "text": [
      "600\n",
      "70\n"
     ]
    }
   ],
   "source": [
    "def product_or_sum(num1, num2):\n",
    "    if num1 * num2 <= 1000: return num1 * num2\n",
    "    else: return num1 + num2\n",
    "\n",
    "\n",
    "print(product_or_sum(20, 30)) #given 20 and 30 \n",
    "\n",
    "print(product_or_sum(40, 30)) #given 40 and 30\n",
    "    \n"
   ]
  },
  {
   "cell_type": "markdown",
   "metadata": {},
   "source": [
    "### Problem - 2\n",
    "#### Check if the first and last number of a list is the same.\n",
    "#### Write a function to return True if the first and last number of a given list is same. If numbers are different then return False.\n"
   ]
  },
  {
   "cell_type": "markdown",
   "metadata": {},
   "source": [
    "##### Answer\n",
    "##### 1. Defining a function to take list as an argument\n",
    "##### 2. Checking if the first and last item on the list is same using first index [0] and last index [-1]\n",
    "##### 3. If same returning True, if not same returing False."
   ]
  },
  {
   "cell_type": "code",
   "execution_count": 62,
   "metadata": {},
   "outputs": [
    {
     "name": "stdout",
     "output_type": "stream",
     "text": [
      "result is  True\n",
      "result is  False\n"
     ]
    }
   ],
   "source": [
    "def check_list(numbers):\n",
    "    if numbers[0] == numbers[-1]: return True\n",
    "    else : return False \n",
    "\n",
    "list_1 = [10,20,30,40,10]      #given list 1\n",
    "\n",
    "list_2 = [75, 65, 35, 75, 30]  #given list 2\n",
    "\n",
    "print(\"result is \",check_list(list_1))\n",
    "\n",
    "print(\"result is \",check_list(list_2))"
   ]
  },
  {
   "cell_type": "markdown",
   "metadata": {},
   "source": [
    "### Problem - 3\n",
    "#### Display numbers divisible by 5 from a list\n",
    "#### Iterate the given list of numbers and print only those numbers which are divisible by 5."
   ]
  },
  {
   "cell_type": "markdown",
   "metadata": {},
   "source": [
    "##### Answer\n",
    "##### 1.Defining a function to take a list as an argument.\n",
    "##### 2.Checking each index if the value is divisible by 5.\n",
    "##### 3.If visible by 5, printing it out."
   ]
  },
  {
   "cell_type": "code",
   "execution_count": 23,
   "metadata": {},
   "outputs": [
    {
     "name": "stdout",
     "output_type": "stream",
     "text": [
      "\n",
      " 10\n",
      "\n",
      " 20\n",
      "\n",
      " 55\n"
     ]
    }
   ],
   "source": [
    "def divisible_list(given_list):\n",
    "    for i in given_list:\n",
    "        if i%5==0:\n",
    "            print(\"\\n\",i)\n",
    "\n",
    "\n",
    "listx = [10,20,33,46,55] #given list\n",
    "divisible_list(listx)"
   ]
  },
  {
   "cell_type": "markdown",
   "metadata": {},
   "source": [
    "### Problem - 4\n",
    "#### Write a program to find how many times the substring \"Emma\" appears in the given string."
   ]
  },
  {
   "cell_type": "markdown",
   "metadata": {},
   "source": [
    "##### Answer\n",
    "##### 1.Defining a function to take string as an argument.\n",
    "##### 2.checking how many times \"Emma\" is appeared in the string using count() method.\n",
    "##### 3.Prints the number of times \"Emma\" appeared."
   ]
  },
  {
   "cell_type": "code",
   "execution_count": 30,
   "metadata": {},
   "outputs": [
    {
     "name": "stdout",
     "output_type": "stream",
     "text": [
      "Emma appears  2  times in the given string.\n"
     ]
    }
   ],
   "source": [
    "#function to check \"Emma\" in string\n",
    "def substring_check(string_x):\n",
    "    count_of_Emma = string_x.count(\"Emma\")  #using the count() method on the string.\n",
    "    print(\"Emma appears \", count_of_Emma , \" times in the given string.\")\n",
    "\n",
    "str_x = \"Emma is a good developer. Emma is a writer.\"\n",
    "substring_check(str_x)\n"
   ]
  },
  {
   "cell_type": "markdown",
   "metadata": {},
   "source": [
    "### Problem - 5\n",
    "#### Print the following pattern\n",
    "####     1\n",
    "####     22\n",
    "####     333\n",
    "####     4444\n",
    "####     55555"
   ]
  },
  {
   "cell_type": "markdown",
   "metadata": {},
   "source": [
    "##### Answer\n",
    "##### 1.For each row, printing the row number, the number of times as the row number. Changed the endline from newline to whitespace\n"
   ]
  },
  {
   "cell_type": "code",
   "execution_count": 58,
   "metadata": {},
   "outputs": [
    {
     "name": "stdout",
     "output_type": "stream",
     "text": [
      "1 \n",
      "\n",
      "2 2 \n",
      "\n",
      "3 3 3 \n",
      "\n",
      "4 4 4 4 \n",
      "\n",
      "5 5 5 5 5 \n",
      "\n"
     ]
    }
   ],
   "source": [
    "for i in range(1,6):\n",
    "    for j in range(i):\n",
    "        print(i, end = \" \")\n",
    "    print(\"\\n\")\n"
   ]
  },
  {
   "cell_type": "markdown",
   "metadata": {},
   "source": [
    "### Problem - 6\n",
    "#### Create a new list from two lists using the following condition,\n",
    "#### Given a two list of numbers, write a program to create a new list such that the new list should contain odd numbers from the first list and even numbers from the second list."
   ]
  },
  {
   "cell_type": "markdown",
   "metadata": {},
   "source": [
    "##### Answer\n",
    "##### 1.Defining a function to take two lists as arguments\n",
    "##### 2.Checking the first list for odd numbers and appending it to a new list.\n",
    "##### 3.Checking the second list for even number and appending to the new list.\n",
    "##### 4.returning and printing the result list."
   ]
  },
  {
   "cell_type": "code",
   "execution_count": 63,
   "metadata": {},
   "outputs": [
    {
     "name": "stdout",
     "output_type": "stream",
     "text": [
      "result list:  [25, 35, 40, 60, 90]\n"
     ]
    }
   ],
   "source": [
    "def odd_or_even_list(list1, list2):\n",
    "    new_list = []                    #declaring a new emptylist.\n",
    "    for i in list1:\n",
    "        if i%2 !=0:\n",
    "            new_list.append(i)\n",
    "    for i in list2:\n",
    "        if i%2 ==0:\n",
    "            new_list.append(i)\n",
    "    return new_list\n",
    "\n",
    "\n",
    "list1 = [10,20,25,30,35]\n",
    "\n",
    "list2 = [40,45,60,75,90]\n",
    "\n",
    "result_list = odd_or_even_list(list1, list2)\n",
    "\n",
    "print(\"result list: \",result_list)"
   ]
  }
 ],
 "metadata": {
  "kernelspec": {
   "display_name": "Python 3.10.5 64-bit",
   "language": "python",
   "name": "python3"
  },
  "language_info": {
   "codemirror_mode": {
    "name": "ipython",
    "version": 3
   },
   "file_extension": ".py",
   "mimetype": "text/x-python",
   "name": "python",
   "nbconvert_exporter": "python",
   "pygments_lexer": "ipython3",
   "version": "3.10.5"
  },
  "orig_nbformat": 4,
  "vscode": {
   "interpreter": {
    "hash": "ed3c39b5a1f404d352c0ade4d29f072fca305900a14fd59cfd635f58a0b0e035"
   }
  }
 },
 "nbformat": 4,
 "nbformat_minor": 2
}
