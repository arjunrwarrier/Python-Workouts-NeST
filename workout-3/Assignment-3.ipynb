{
 "cells": [
  {
   "cell_type": "markdown",
   "metadata": {},
   "source": [
    "# Question 1\n",
    "### Create a Time class and initialize it with hours and minutes.\n",
    "### 1.Make a method addTime which should take two time object and add them. Eg(2 hours and 50 mins)+(1hr 20min)is (4hr and 10min)\n",
    "### 2.Make a method displayTime which should print the time.\n",
    "### 3.Make a method DisplayMinute which should display the total minutes in the time eg(1hr 2 min) should display 62 minute"
   ]
  },
  {
   "cell_type": "code",
   "execution_count": 41,
   "metadata": {},
   "outputs": [
    {
     "name": "stdout",
     "output_type": "stream",
     "text": [
      "It is 2 hours and 5 minutes\n",
      "It is 3 hours and 120 minutes\n",
      "It is 7 hours and 5 minutes\n",
      "The total minutes is :  425\n"
     ]
    }
   ],
   "source": [
    "class Time(object):\n",
    "    def __init__(self, hours, minutes):\n",
    "        self.hours = hours\n",
    "        self.minutes = minutes\n",
    "    def displayTime(self):\n",
    "        print(f\"It is {self.hours} hours and {self.minutes} minutes\")\n",
    "\n",
    "    def displayMinute(self):      \n",
    "        print(\"The total minutes is : \",(self.hours*60)+self.minutes)\n",
    "    def addTime(time1,time2):\n",
    "        total = Time(0,0)\n",
    "        total.hours = time1.hours+time2.hours\n",
    "        total.minutes = time1.minutes + time2.minutes\n",
    "        while(total.minutes >= 60):\n",
    "            total.hours+=1\n",
    "            total.minutes-=60\n",
    "        return total\n",
    "\n",
    "        \n",
    "\n",
    "t1 = Time(2, 5)\n",
    "t2 = Time(3, 120)\n",
    "t3 = Time.addTime(t1,t2)\n",
    "t1.displayTime()\n",
    "t2.displayTime()\n",
    "t3.displayTime()\n",
    "t3.displayMinute()\n"
   ]
  },
  {
   "cell_type": "markdown",
   "metadata": {},
   "source": [
    "# Question 2\n",
    "### Temperature problem\n",
    "### Create a temperature class and make two methods\n",
    "### 1.Covert Fahrenheit - it will take celcius and will print it into fahrenheit.\n",
    "### 2.Convert Celcius - It will take Fahrenheit and will convert it into celcius."
   ]
  },
  {
   "cell_type": "code",
   "execution_count": 42,
   "metadata": {},
   "outputs": [
    {
     "name": "stdout",
     "output_type": "stream",
     "text": [
      "The Fahrenheit value is :  96.8\n",
      "The celcius value is :  36.666666666666664\n"
     ]
    }
   ],
   "source": [
    "class Temperature:\n",
    "    def __init__(self,temperature):\n",
    "        self.temperature = temperature\n",
    "    \n",
    "    def converttoFahrenheit(self):\n",
    "        print(\"The Fahrenheit value is : \",(self.temperature * 1.8)+32)\n",
    "\n",
    "    def converttoCelcius(self):\n",
    "        print(\"The celcius value is : \",(self.temperature - 32)/1.8)\n",
    "\n",
    "\n",
    "\n",
    "t1 = Temperature(36)\n",
    "t1.converttoFahrenheit()\n",
    "t2 = Temperature(98)\n",
    "t2.converttoCelcius()\n"
   ]
  }
 ],
 "metadata": {
  "kernelspec": {
   "display_name": "Python 3.10.5 64-bit",
   "language": "python",
   "name": "python3"
  },
  "language_info": {
   "codemirror_mode": {
    "name": "ipython",
    "version": 3
   },
   "file_extension": ".py",
   "mimetype": "text/x-python",
   "name": "python",
   "nbconvert_exporter": "python",
   "pygments_lexer": "ipython3",
   "version": "3.10.5"
  },
  "orig_nbformat": 4,
  "vscode": {
   "interpreter": {
    "hash": "ed3c39b5a1f404d352c0ade4d29f072fca305900a14fd59cfd635f58a0b0e035"
   }
  }
 },
 "nbformat": 4,
 "nbformat_minor": 2
}
